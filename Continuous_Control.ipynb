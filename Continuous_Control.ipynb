{
 "cells": [
  {
   "cell_type": "markdown",
   "metadata": {},
   "source": [
    "# Continuous Control\n",
    "\n",
    "---\n",
    "\n",
    "You are welcome to use this coding environment to train your agent for the project.  Follow the instructions below to get started!\n",
    "\n",
    "### 1. Start the Environment\n",
    "\n",
    "Run the next code cell to install a few packages.  This line will take a few minutes to run!"
   ]
  },
  {
   "cell_type": "code",
   "execution_count": 1,
   "metadata": {},
   "outputs": [
    {
     "name": "stdout",
     "output_type": "stream",
     "text": [
      "\u001b[31mtensorflow 1.7.1 has requirement numpy>=1.13.3, but you'll have numpy 1.12.1 which is incompatible.\u001b[0m\r\n",
      "\u001b[31mipython 6.5.0 has requirement prompt-toolkit<2.0.0,>=1.0.15, but you'll have prompt-toolkit 3.0.5 which is incompatible.\u001b[0m\r\n"
     ]
    }
   ],
   "source": [
    "!pip -q install ./python\n"
   ]
  },
  {
   "cell_type": "markdown",
   "metadata": {},
   "source": [
    "The environments corresponding to both versions of the environment are already saved in the Workspace and can be accessed at the file paths provided below.  \n",
    "\n",
    "Please select one of the two options below for loading the environment."
   ]
  },
  {
   "cell_type": "code",
   "execution_count": 2,
   "metadata": {},
   "outputs": [
    {
     "name": "stderr",
     "output_type": "stream",
     "text": [
      "INFO:unityagents:\n",
      "'Academy' started successfully!\n",
      "Unity Academy name: Academy\n",
      "        Number of Brains: 1\n",
      "        Number of External Brains : 1\n",
      "        Lesson number : 0\n",
      "        Reset Parameters :\n",
      "\t\tgoal_speed -> 1.0\n",
      "\t\tgoal_size -> 5.0\n",
      "Unity brain name: ReacherBrain\n",
      "        Number of Visual Observations (per agent): 0\n",
      "        Vector Observation space type: continuous\n",
      "        Vector Observation space size (per agent): 33\n",
      "        Number of stacked Vector Observation: 1\n",
      "        Vector Action space type: continuous\n",
      "        Vector Action space size (per agent): 4\n",
      "        Vector Action descriptions: , , , \n"
     ]
    }
   ],
   "source": [
    "import numpy as np\n",
    "import torch\n",
    "import time\n",
    "from collections import deque\n",
    "import matplotlib.pyplot as plt\n",
    "%matplotlib inline\n",
    "\n",
    "from unityagents import UnityEnvironment\n",
    "from ddpg_agent import MultiAgent\n",
    "\n",
    "# select this option to load version 1 (with a single agent) of the environment\n",
    "#env = UnityEnvironment(file_name='/data/Reacher_One_Linux_NoVis/Reacher_One_Linux_NoVis.x86_64')\n",
    "\n",
    "# select this option to load version 2 (with 20 agents) of the environment\n",
    "env = UnityEnvironment(file_name='Reacher.exe')"
   ]
  },
  {
   "cell_type": "markdown",
   "metadata": {},
   "source": [
    "Environments contain **_brains_** which are responsible for deciding the actions of their associated agents. Here we check for the first brain available, and set it as the default brain we will be controlling from Python."
   ]
  },
  {
   "cell_type": "code",
   "execution_count": 3,
   "metadata": {},
   "outputs": [],
   "source": [
    "# get the default brain\n",
    "brain_name = env.brain_names[0]\n",
    "brain = env.brains[brain_name]"
   ]
  },
  {
   "cell_type": "markdown",
   "metadata": {},
   "source": [
    "### 2. Examine the State and Action Spaces\n",
    "\n",
    "Run the code cell below to print some information about the environment."
   ]
  },
  {
   "cell_type": "code",
   "execution_count": 4,
   "metadata": {},
   "outputs": [
    {
     "name": "stdout",
     "output_type": "stream",
     "text": [
      "Number of agents: 20\n",
      "Size of each action: 4\n",
      "There are 20 agents. Each observes a state with length: 33\n",
      "The state for the first agent looks like: [  0.00000000e+00  -4.00000000e+00   0.00000000e+00   1.00000000e+00\n",
      "  -0.00000000e+00  -0.00000000e+00  -4.37113883e-08   0.00000000e+00\n",
      "   0.00000000e+00   0.00000000e+00   0.00000000e+00   0.00000000e+00\n",
      "   0.00000000e+00   0.00000000e+00  -1.00000000e+01   0.00000000e+00\n",
      "   1.00000000e+00  -0.00000000e+00  -0.00000000e+00  -4.37113883e-08\n",
      "   0.00000000e+00   0.00000000e+00   0.00000000e+00   0.00000000e+00\n",
      "   0.00000000e+00   0.00000000e+00   5.75471878e+00  -1.00000000e+00\n",
      "   5.55726624e+00   0.00000000e+00   1.00000000e+00   0.00000000e+00\n",
      "  -1.68164849e-01]\n"
     ]
    }
   ],
   "source": [
    "# reset the environment\n",
    "env_info = env.reset(train_mode=True)[brain_name]\n",
    "\n",
    "# number of agents\n",
    "num_agents = len(env_info.agents)\n",
    "print('Number of agents:', num_agents)\n",
    "\n",
    "# size of each action\n",
    "action_size = brain.vector_action_space_size\n",
    "print('Size of each action:', action_size)\n",
    "\n",
    "# examine the state space \n",
    "states = env_info.vector_observations\n",
    "state_size = states.shape[1]\n",
    "print('There are {} agents. Each observes a state with length: {}'.format(states.shape[0], state_size))\n",
    "print('The state for the first agent looks like:', states[0])"
   ]
  },
  {
   "cell_type": "markdown",
   "metadata": {},
   "source": [
    "# Train Agent\n",
    "\n",
    "Below is the code that will actually loop through many rounds of training an agent to interact with the environment. The loop stops once the agent has solved the problem. A snapshot of the agent is saved for each episode in which there is an improvement in performance. "
   ]
  },
  {
   "cell_type": "code",
   "execution_count": 5,
   "metadata": {},
   "outputs": [],
   "source": [
    "# Set environment to train mode\n",
    "env_info = env.reset(train_mode=True)[brain_name]\n",
    "\n",
    "# Create agent\n",
    "agent = MultiAgent(state_size=state_size, action_size=action_size, n_agents=num_agents, seed=42)"
   ]
  },
  {
   "cell_type": "code",
   "execution_count": 6,
   "metadata": {},
   "outputs": [],
   "source": [
    "# TRAIN SETTINGS\n",
    "max_t = 1000        # max number of timesteps per episode\n",
    "solved_score = 30.0 # Score that must be met to be considered solved\n",
    "solved_window = 100 # number of episodes used to calculate mean to check if solution satisified\n",
    "print_every = 10    # How often to keep a persistent version of printout\n",
    "\n",
    "# HISTORY - keep track of progress\n",
    "scores_deque = deque(maxlen=solved_window) # used to average over window of last scores\n",
    "scores = []         # track all history of episode scores\n",
    "best_average_score = -np.inf"
   ]
  },
  {
   "cell_type": "code",
   "execution_count": 7,
   "metadata": {},
   "outputs": [
    {
     "name": "stdout",
     "output_type": "stream",
     "text": [
      "============================================================\n",
      "TRAINING\n",
      "============================================================\n",
      "Using Device:  cuda:0\n",
      "Episode:    10\tTime (Mins): 4.15\tAverage Score:  0.13\tCurrent Score:  0.04\n",
      "Episode:    20\tTime (Mins): 9.16\tAverage Score:  0.33\tCurrent Score:  1.12\n",
      "Episode:    30\tTime (Mins): 15.58\tAverage Score:  0.63\tCurrent Score:  1.41\n",
      "Episode:    40\tTime (Mins): 23.59\tAverage Score:  0.91\tCurrent Score:  2.46\n",
      "Episode:    50\tTime (Mins): 33.22\tAverage Score:  1.38\tCurrent Score:  3.99\n",
      "Episode:    60\tTime (Mins): 43.65\tAverage Score:  1.96\tCurrent Score:  5.32\n",
      "Episode:    70\tTime (Mins): 54.09\tAverage Score:  2.55\tCurrent Score:  7.64\n",
      "Episode:    80\tTime (Mins): 64.76\tAverage Score:  3.21\tCurrent Score:  8.47\n",
      "Episode:    90\tTime (Mins): 75.30\tAverage Score:  3.80\tCurrent Score:  8.95\n",
      "Episode:   100\tTime (Mins): 85.81\tAverage Score:  4.48\tCurrent Score:  10.64\n",
      "Episode:   110\tTime (Mins): 96.28\tAverage Score:  5.81\tCurrent Score:  14.41\n",
      "Episode:   120\tTime (Mins): 106.76\tAverage Score:  7.22\tCurrent Score:  15.29\n",
      "Episode:   130\tTime (Mins): 117.39\tAverage Score:  8.62\tCurrent Score:  17.00\n",
      "Episode:   140\tTime (Mins): 127.99\tAverage Score:  10.11\tCurrent Score:  16.92\n",
      "Episode:   150\tTime (Mins): 138.78\tAverage Score:  11.69\tCurrent Score:  19.56\n",
      "Episode:   160\tTime (Mins): 149.47\tAverage Score:  13.48\tCurrent Score:  25.95\n",
      "Episode:   170\tTime (Mins): 160.14\tAverage Score:  15.67\tCurrent Score:  31.53\n",
      "Episode:   180\tTime (Mins): 170.90\tAverage Score:  17.69\tCurrent Score:  27.53\n",
      "Episode:   190\tTime (Mins): 181.66\tAverage Score:  19.86\tCurrent Score:  30.49\n",
      "Episode:   200\tTime (Mins): 192.25\tAverage Score:  22.23\tCurrent Score:  35.29\n",
      "Episode:   210\tTime (Mins): 202.79\tAverage Score:  24.36\tCurrent Score:  34.24\n",
      "Episode:   220\tTime (Mins): 213.39\tAverage Score:  26.34\tCurrent Score:  36.57\n",
      "Episode:   230\tTime (Mins): 224.11\tAverage Score:  28.27\tCurrent Score:  34.65\n",
      "Episode:   240\tTime (Mins): 234.66\tAverage Score:  29.98\tCurrent Score:  34.58\n",
      "Episode:   241\tTime (Mins): 235.75\tAverage Score:  30.08\tCurrent Score:  31.05\n",
      "Environment solved in 141 episodes!\tAverage Score: 30.08\n"
     ]
    }
   ],
   "source": [
    "# TRAIN LOOP\n",
    "\n",
    "epochs = 1000 # number of training epochs\n",
    "print(\"{sep}\\nTRAINING\\n{sep}\".format(sep=\"=\"*60))\n",
    "print(\"Using Device: \", agent.device)\n",
    "t0 =  time.time()\n",
    "for i_episode in range(1, epochs+1):\n",
    "    # RESET ENVIRONMENT, STATE AND SCORES\n",
    "    env_info = env.reset(train_mode=True)[brain_name]\n",
    "    states = env_info.vector_observations\n",
    "    episode_scores = np.zeros(num_agents) # score for each agent within episode\n",
    "    agent.reset()\n",
    "\n",
    "    # COLLECT AN EPISODE OF EXPERIENCE FROM EACH AGENT\n",
    "    for t in range(max_t):\n",
    "        # A single step of interaction with the environment for each agent\n",
    "        actions = agent.act(states)\n",
    "        env_info = env.step(actions)[brain_name]\n",
    "        next_states = env_info.vector_observations\n",
    "        rewards = env_info.rewards\n",
    "        dones = env_info.local_done\n",
    "\n",
    "        # Perform step of caching experience / training on experiences\n",
    "        agent.step(states=states, actions=actions, rewards=rewards, next_states=next_states, dones=dones)\n",
    "\n",
    "        # Sum up rewards separately for each agent\n",
    "        episode_scores += np.array(rewards)\n",
    "\n",
    "        # Prepare for next timestep of iteraction\n",
    "        states = next_states  # new states become the current states\n",
    "\n",
    "        # Check if any of the agents has finished. Finish to keep all\n",
    "        # trajectories in this batch the same size.\n",
    "        if np.any(dones):\n",
    "            break\n",
    "\n",
    "    # UPDATE SCORES\n",
    "    episode_score = np.mean(episode_scores) # Summary of scores for this episode\n",
    "    scores_deque.append(episode_score)\n",
    "    average_score = np.mean(scores_deque)\n",
    "    scores.append(episode_score)\n",
    "\n",
    "    # FEEDBACK\n",
    "    t1 = (time.time()-t0)/60. # time taken so far\n",
    "    print('\\rEpisode: {: 5d}\\tTime (Mins): {:3.2f}\\tAverage Score: {: 3.2f}\\tCurrent Score: {: 3.2f}'.format(i_episode, t1, average_score, episode_score), end=\"\")\n",
    "    if i_episode % print_every == 0:\n",
    "        print('\\rEpisode: {: 5d}\\tTime (Mins): {:3.2f}\\tAverage Score: {: 3.2f}\\tCurrent Score: {: 3.2f}'.format(i_episode, t1, average_score, episode_score))\n",
    "\n",
    "    # SAVE SNAPSHOT - if it is better than previous models\n",
    "    if (i_episode >= solved_window) and (average_score > best_average_score):\n",
    "        best_average_score = average_score\n",
    "        torch.save(agent.actor_local.state_dict(), 'checkpoint_actor.pth')\n",
    "        torch.save(agent.critic_local.state_dict(), 'checkpoint_critic.pth')\n",
    "\n",
    "    # CHECK IF SOLVED\n",
    "    if average_score >= solved_score:\n",
    "        print('\\nEnvironment solved in {:d} episodes!\\tAverage Score: {:.2f}'.format(i_episode-solved_window, average_score))\n",
    "        torch.save(agent.actor_local.state_dict(), 'checkpoint_actor.pth')\n",
    "        torch.save(agent.critic_local.state_dict(), 'checkpoint_critic.pth')\n",
    "        break\n"
   ]
  },
  {
   "cell_type": "code",
   "execution_count": 8,
   "metadata": {},
   "outputs": [],
   "source": [
    "# CLOSE ENVIRONMENT\n",
    "env.close()"
   ]
  },
  {
   "cell_type": "code",
   "execution_count": 9,
   "metadata": {},
   "outputs": [
    {
     "data": {
      "image/png": "[encoded data removed]",
      "text/plain": [
       "<matplotlib.figure.Figure at 0x7f4e8048ecc0>"
      ]
     },
     "metadata": {
      "needs_background": "light"
     },
     "output_type": "display_data"
    }
   ],
   "source": [
    "# LEARNING CURVE\n",
    "fig, ax = plt.subplots(figsize=(12, 6))\n",
    "fig.suptitle(\"Learning Curve\", fontsize=15)\n",
    "ax.plot(scores, color=\"#307EC7\", label=\"line\")\n",
    "ax.set_xlabel(\"Timesteps\")\n",
    "ax.set_ylabel(\"Average Score\")\n",
    "# GRID\n",
    "ax.grid(True)\n",
    "ax.grid(b=True, which='major', color='#999999', linestyle='-', linewidth=1)\n",
    "ax.minorticks_on()\n",
    "ax.grid(b=True, which='minor', color='#999999', linestyle='-', alpha=0.7, linewidth=0.5)\n",
    "fig.savefig(\"learning_curves.jpg\")"
   ]
  }
 ],
 "metadata": {
  "kernelspec": {
   "display_name": "Python 3",
   "language": "python",
   "name": "python3"
  },
  "language_info": {
   "codemirror_mode": {
    "name": "ipython",
    "version": 3
   },
   "file_extension": ".py",
   "mimetype": "text/x-python",
   "name": "python",
   "nbconvert_exporter": "python",
   "pygments_lexer": "ipython3",
   "version": "3.6.10"
  }
 },
 "nbformat": 4,
 "nbformat_minor": 2
}
